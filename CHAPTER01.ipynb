{
 "cells": [
  {
   "cell_type": "markdown",
   "metadata": {},
   "source": [
    "# Chapter 01 시작하기 전에\n",
    "\n",
    "- 이 책은 **데이터 분석 방법론** 보다는 **파이썬 프로그래밍, 라이브러리, 도구**에 중점을 둔다.\n",
    "\n",
    "### 파이썬\n",
    "\n",
    "- 파이썬은 **스크립트 언어**이다.\n",
    "    - 스크립트 언어란? \n",
    "        - 반대되는 개념이 컴파일러 언어?\n",
    "    - 인터프리터 언어란?\n",
    "    - 대화형 언어란?\n",
    "    \n",
    "- 파이썬은 C, C++, 포트란(FORTRAN)과 통합이 용이하다.\n",
    "\n",
    "- 파이썬은 연구 + 시스템 개발 모두에 적합하다.\n",
    "\n",
    "- 파이썬이 별로인 경우\n",
    "    - 빠른 응답 시간이 필요할 때\n",
    "    - 멀티스레드 처리가 필요할 때\n",
    "        - GIL: Global Interpreter Lock 때문이다.\n",
    "            - 한 번에 하나의 파이썬 명령만 실행하는 것\n",
    "        - 멀티스레드가 아예 안되는 건 아니다; 파이썬 c 확장을 사용하면 됨.\n",
    "        \n",
    "- 이 책에서 사용할 라이브러리\n",
    "    - Numpy\n",
    "    - Pandas\n",
    "    - Scipy\n",
    "    - Scikit-learn\n",
    "    - Statsmodel\n",
    "    \n",
    "### conda와 pip\n",
    "> 함께 사용 가능하지만, `conda`를 먼저 시도한다.\n",
    "- conda 패키지를 `pip`으로 설치할 경우 환경 설정에 문제가 발생할 수도 있기 때문이다.\n",
    "\n",
    "- `conda install *package_name*`\n",
    "- `conda upgrade *package_name*`\n",
    "\n",
    "- `pip install *package_name*`\n",
    "- `pip install --upgrade *package_name*`\n",
    "\n",
    "\n",
    "### 몇가지 팁\n",
    "\n",
    "- pycon.org 방문해보기!\n",
    "    - 전세계 곳곳에서 열리는 pycon 정보를 찾아볼 수 있다.\n",
    "    \n",
    "\n",
    "- `from numpy import *`: 거대한 패키지에서 모든 것을 임포트하는 건 나쁜 습관이다!\n",
    "\n",
    "\n",
    "### 몇가지 용어\n",
    "\n",
    "- 의사코드 pseudocode\n",
    "> 실제 유효한 소스코드는 아니지만 알고리즘이나 과정을 코드처럼 표현한 것\n",
    "\n",
    "- 신태틱 슈거 synctactic sugar\n",
    "> 문법적 기능은 그대로지만 기존에 비해 좀 더 편리하거나 타이핑이 간단해지는 프로그래밍 문법"
   ]
  },
  {
   "cell_type": "code",
   "execution_count": null,
   "metadata": {},
   "outputs": [],
   "source": []
  }
 ],
 "metadata": {
  "kernelspec": {
   "display_name": "Python 3",
   "language": "python",
   "name": "python3"
  },
  "language_info": {
   "codemirror_mode": {
    "name": "ipython",
    "version": 3
   },
   "file_extension": ".py",
   "mimetype": "text/x-python",
   "name": "python",
   "nbconvert_exporter": "python",
   "pygments_lexer": "ipython3",
   "version": "3.7.5"
  }
 },
 "nbformat": 4,
 "nbformat_minor": 2
}
