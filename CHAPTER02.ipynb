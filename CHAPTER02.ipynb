{
 "cells": [
  {
   "cell_type": "markdown",
   "metadata": {},
   "source": [
    "# Chapter 02 파이썬 언어의 기본, IPython, 주피터 노트북\n",
    "\n"
   ]
  },
  {
   "cell_type": "markdown",
   "metadata": {},
   "source": [
    "## 2.2 Ipython 기초"
   ]
  },
  {
   "cell_type": "code",
   "execution_count": 1,
   "metadata": {},
   "outputs": [
    {
     "name": "stdout",
     "output_type": "stream",
     "text": [
      "Hello, world!\n"
     ]
    }
   ],
   "source": [
    "print(\"Hello, world!\")"
   ]
  },
  {
   "cell_type": "markdown",
   "metadata": {},
   "source": [
    "### `<Tab>` 키로 변수명, 속성/메소드, 경로명을 자동완성할 수 있다.\n",
    "- 네임스페이스에서 그 시점까지 입력한 내용과 맞아떨어지는 변수(객체, 함수)를 자동으로 찾아주기 때문!\n",
    "\n",
    "네임스페이스란?\n",
    "> 소속 공간이다.\n",
    "- 개체를 구분할 수 있는 범위를 나타내는 말로 일반적으로 하나의 이름 공간에서는 하나의 이름이 단 하나의 개체만을 가리키게 된다. \n",
    "-  \"영희네 멍멍이\", \"철수네 멍멍이\" 에서 \"영희\", \"철수\"가 곧 네임스페이스다!\n",
    "\n",
    "출처: https://thinkpro.tistory.com/22"
   ]
  },
  {
   "cell_type": "code",
   "execution_count": 2,
   "metadata": {},
   "outputs": [],
   "source": [
    "#탭 자동완성: 변수명\n",
    "an_apple = 27"
   ]
  },
  {
   "cell_type": "code",
   "execution_count": 3,
   "metadata": {},
   "outputs": [],
   "source": [
    "an_example = 42"
   ]
  },
  {
   "cell_type": "code",
   "execution_count": 5,
   "metadata": {},
   "outputs": [
    {
     "data": {
      "text/plain": [
       "27"
      ]
     },
     "execution_count": 5,
     "metadata": {},
     "output_type": "execute_result"
    }
   ],
   "source": [
    "an_apple"
   ]
  },
  {
   "cell_type": "code",
   "execution_count": 4,
   "metadata": {},
   "outputs": [],
   "source": [
    "#탭 자동완성: 속성/메소드\n",
    "b = [1, 2, 3]"
   ]
  },
  {
   "cell_type": "code",
   "execution_count": 6,
   "metadata": {},
   "outputs": [],
   "source": [
    "b.append(4)"
   ]
  },
  {
   "cell_type": "code",
   "execution_count": 7,
   "metadata": {},
   "outputs": [
    {
     "data": {
      "text/plain": [
       "[1, 2, 3, 4]"
      ]
     },
     "execution_count": 7,
     "metadata": {},
     "output_type": "execute_result"
    }
   ],
   "source": [
    "b"
   ]
  },
  {
   "cell_type": "code",
   "execution_count": 8,
   "metadata": {},
   "outputs": [],
   "source": [
    "import datetime"
   ]
  },
  {
   "cell_type": "code",
   "execution_count": 9,
   "metadata": {},
   "outputs": [
    {
     "data": {
      "text/plain": [
       "datetime.date"
      ]
     },
     "execution_count": 9,
     "metadata": {},
     "output_type": "execute_result"
    }
   ],
   "source": [
    "#탭 자동완성: 모듈\n",
    "datetime.date"
   ]
  },
  {
   "cell_type": "code",
   "execution_count": 10,
   "metadata": {},
   "outputs": [],
   "source": [
    "#탭 자동완성: 경로명"
   ]
  },
  {
   "cell_type": "code",
   "execution_count": 11,
   "metadata": {},
   "outputs": [],
   "source": [
    "#탭 자동완성: 함수 인자명\n",
    "def func_with_keywords(abra=1, abbra=2, abbbra=3):\n",
    "    return abra, abbra, abbbra"
   ]
  },
  {
   "cell_type": "code",
   "execution_count": null,
   "metadata": {},
   "outputs": [],
   "source": [
    "func_with_keywords(abbbra=)"
   ]
  },
  {
   "cell_type": "markdown",
   "metadata": {},
   "source": [
    "### `?` 자기관찰(introspection)\n",
    "- 정의되어 있는 문서(docstring)를 출력해준다."
   ]
  },
  {
   "cell_type": "code",
   "execution_count": 18,
   "metadata": {},
   "outputs": [],
   "source": [
    "b = [1, 2, 3]"
   ]
  },
  {
   "cell_type": "code",
   "execution_count": 19,
   "metadata": {},
   "outputs": [],
   "source": [
    "b?"
   ]
  },
  {
   "cell_type": "code",
   "execution_count": 17,
   "metadata": {},
   "outputs": [],
   "source": [
    "print?"
   ]
  },
  {
   "cell_type": "code",
   "execution_count": 15,
   "metadata": {},
   "outputs": [],
   "source": [
    "def add_numbers(a, b):\n",
    "    \"\"\"\n",
    "    Add two numbers together\n",
    "    \n",
    "    Returns\n",
    "    --------\n",
    "    the_sum : type of arguments\n",
    "    \"\"\"\n",
    "    return a + b"
   ]
  },
  {
   "cell_type": "code",
   "execution_count": 23,
   "metadata": {},
   "outputs": [],
   "source": [
    "add_numbers?"
   ]
  },
  {
   "cell_type": "code",
   "execution_count": 26,
   "metadata": {},
   "outputs": [],
   "source": [
    "add_numbers??    #소스코드 보여줌"
   ]
  },
  {
   "cell_type": "code",
   "execution_count": 30,
   "metadata": {},
   "outputs": [],
   "source": [
    "#네임스페이스 검색에도 활용할 수 있다.\n",
    "np.*load*?"
   ]
  },
  {
   "cell_type": "markdown",
   "metadata": {},
   "source": [
    "왜 안되지"
   ]
  },
  {
   "cell_type": "markdown",
   "metadata": {},
   "source": [
    "### `%run` 명령어\n",
    "- 외부 파이썬 프로그램 파일을 불러와서 실행할 수 있다.\n",
    "    - `%run 파일.py`\n",
    "- bash에서 다음과 같이 입력하는 것과 동일하다.\n",
    "    - `python 파일.py`"
   ]
  },
  {
   "cell_type": "code",
   "execution_count": 31,
   "metadata": {},
   "outputs": [],
   "source": [
    "%run ipython_script_test.py"
   ]
  },
  {
   "cell_type": "markdown",
   "metadata": {},
   "source": [
    "참고로 `ipython_script_test.py`는 다음과 같이 작성했다."
   ]
  },
  {
   "cell_type": "code",
   "execution_count": null,
   "metadata": {},
   "outputs": [],
   "source": [
    "def f(x, y, z):\n",
    "    return (x + y) / z\n",
    "\n",
    "a = 5\n",
    "b = 6\n",
    "c = 7.5\n",
    "\n",
    "result = f(a, b, c)"
   ]
  },
  {
   "cell_type": "markdown",
   "metadata": {},
   "source": [
    "실행 후 해당 파일에서 정의된 모든 변수에 접근 가능하다"
   ]
  },
  {
   "cell_type": "code",
   "execution_count": 34,
   "metadata": {},
   "outputs": [
    {
     "data": {
      "text/plain": [
       "7.5"
      ]
     },
     "execution_count": 34,
     "metadata": {},
     "output_type": "execute_result"
    }
   ],
   "source": [
    "c"
   ]
  },
  {
   "cell_type": "code",
   "execution_count": 33,
   "metadata": {},
   "outputs": [
    {
     "data": {
      "text/plain": [
       "1.4666666666666666"
      ]
     },
     "execution_count": 33,
     "metadata": {},
     "output_type": "execute_result"
    }
   ],
   "source": [
    "result"
   ]
  },
  {
   "cell_type": "markdown",
   "metadata": {},
   "source": [
    "- 스크립트에 인자를 넘겨야 한다면 파일 경로 다음에 필요한 인자를 넘겨주면 된다.\n",
    "\n",
    "- `%run -i`를 활용하면 ipython 네임스페이스에 미리 선언된 변수에 접근할 수 있다.  --> 안됨"
   ]
  },
  {
   "cell_type": "code",
   "execution_count": 40,
   "metadata": {},
   "outputs": [],
   "source": [
    "#변수를 바꿔치기 해서 실행해본다.\n",
    "\n",
    "a = 1\n",
    "b = 1\n",
    "c = 1\n",
    "\n",
    "%run -i ipython_script_test.py"
   ]
  },
  {
   "cell_type": "code",
   "execution_count": 41,
   "metadata": {},
   "outputs": [
    {
     "data": {
      "text/plain": [
       "5"
      ]
     },
     "execution_count": 41,
     "metadata": {},
     "output_type": "execute_result"
    }
   ],
   "source": [
    "a"
   ]
  },
  {
   "cell_type": "markdown",
   "metadata": {},
   "source": [
    "안되는데?"
   ]
  },
  {
   "cell_type": "markdown",
   "metadata": {},
   "source": [
    "### `%load` 명령어\n",
    "- 스크립트 파일을 셀로 불러올 수 있다."
   ]
  },
  {
   "cell_type": "code",
   "execution_count": null,
   "metadata": {},
   "outputs": [],
   "source": [
    "# %load ipython_script_test.py\n",
    "def f(x, y, z):\n",
    "    return (x + y) / z\n",
    "\n",
    "a = 5\n",
    "b = 6\n",
    "c = 7.5\n",
    "\n",
    "result = f(a, b, c)"
   ]
  },
  {
   "cell_type": "markdown",
   "metadata": {},
   "source": [
    "### `%paste`, `%cpaste`"
   ]
  },
  {
   "cell_type": "code",
   "execution_count": 43,
   "metadata": {},
   "outputs": [],
   "source": [
    "x = 5\n",
    "y = 7\n",
    "if x > 5:\n",
    "    x += 1\n",
    "    \n",
    "    y = 8"
   ]
  },
  {
   "cell_type": "code",
   "execution_count": 46,
   "metadata": {},
   "outputs": [
    {
     "name": "stderr",
     "output_type": "stream",
     "text": [
      "UsageError: Line magic function `%cpaste` not found.\n"
     ]
    }
   ],
   "source": [
    "%cpaste"
   ]
  },
  {
   "cell_type": "markdown",
   "metadata": {},
   "source": [
    "없어졌나봄"
   ]
  },
  {
   "cell_type": "code",
   "execution_count": null,
   "metadata": {},
   "outputs": [],
   "source": [
    "a_variable"
   ]
  },
  {
   "cell_type": "markdown",
   "metadata": {},
   "source": [
    "### `%time`\n",
    "- 코드의 단일 실행 시간을 리턴한다.\n",
    "\n",
    "### `%timeit`\n",
    "- 코드를 여러번 실행 후 평균 실행 시간을 리턴한다."
   ]
  },
  {
   "cell_type": "code",
   "execution_count": 49,
   "metadata": {},
   "outputs": [],
   "source": [
    "a = np.random.randn(100, 100)"
   ]
  },
  {
   "cell_type": "code",
   "execution_count": 55,
   "metadata": {},
   "outputs": [
    {
     "name": "stdout",
     "output_type": "stream",
     "text": [
      "CPU times: user 311 µs, sys: 87 µs, total: 398 µs\n",
      "Wall time: 220 µs\n"
     ]
    },
    {
     "data": {
      "text/plain": [
       "array([[ -3.95393945,   7.71406502,  -6.0412373 , ...,   7.20418261,\n",
       "          3.37558833,  14.80301798],\n",
       "       [ -1.61696309,  15.88841648,   1.20176992, ...,   8.45668322,\n",
       "         -4.43011647, -12.15468087],\n",
       "       [  5.94224254,  -2.34004482,  -1.62323264, ...,  -2.42657676,\n",
       "          4.4845613 ,   2.92375486],\n",
       "       ...,\n",
       "       [-12.60241458,   8.74900075,   0.35229064, ...,   4.53708434,\n",
       "          8.47516701,  -1.14708656],\n",
       "       [ 14.59633385, -16.02908436,  23.91660132, ...,  -6.53323314,\n",
       "          6.34918874,  18.01494127],\n",
       "       [-15.66151991,  -2.33884988,  -3.59177096, ..., -10.39764593,\n",
       "         -1.37978244,   0.72321043]])"
      ]
     },
     "execution_count": 55,
     "metadata": {},
     "output_type": "execute_result"
    }
   ],
   "source": [
    "%time np.dot(a, a)"
   ]
  },
  {
   "cell_type": "code",
   "execution_count": 50,
   "metadata": {},
   "outputs": [
    {
     "name": "stdout",
     "output_type": "stream",
     "text": [
      "30.6 µs ± 616 ns per loop (mean ± std. dev. of 7 runs, 10000 loops each)\n"
     ]
    }
   ],
   "source": [
    "%timeit np.dot(a, a)"
   ]
  },
  {
   "cell_type": "code",
   "execution_count": 51,
   "metadata": {},
   "outputs": [],
   "source": [
    "%debug?"
   ]
  },
  {
   "cell_type": "markdown",
   "metadata": {},
   "source": [
    "### `%pwd`\n",
    "- 현재 경로명을 리턴한다."
   ]
  },
  {
   "cell_type": "code",
   "execution_count": 52,
   "metadata": {},
   "outputs": [
    {
     "data": {
      "text/plain": [
       "'/Users/soothingni/Desktop/pydata'"
      ]
     },
     "execution_count": 52,
     "metadata": {},
     "output_type": "execute_result"
    }
   ],
   "source": [
    "%pwd"
   ]
  },
  {
   "cell_type": "code",
   "execution_count": 53,
   "metadata": {},
   "outputs": [],
   "source": [
    "#결과를 변수에 저장할 수도 있다.\n",
    "foo = %pwd"
   ]
  },
  {
   "cell_type": "code",
   "execution_count": 54,
   "metadata": {},
   "outputs": [
    {
     "data": {
      "text/plain": [
       "'/Users/soothingni/Desktop/pydata'"
      ]
     },
     "execution_count": 54,
     "metadata": {},
     "output_type": "execute_result"
    }
   ],
   "source": [
    "foo"
   ]
  },
  {
   "cell_type": "markdown",
   "metadata": {},
   "source": [
    "### 기타 매직명령어\n",
    "- `%quickref` : ipython 도움말(매직명령어 리스트 간략하게 포함)\n",
    "- `%magic` : 매직명령어 리스트\n",
    "- `%hist` : 지금까지의 명령어 히스토리\n",
    "- `%reset` : 네임스페이스에 정의된 모든 변수 삭제\n",
    "- `%debug` : 대화형 디버거로 진입\n",
    "- `%pdb` : 예외 발생 시 자동으로 디버거로 진입\n",
    "- `%page OBJECT` : 해당 객체의 pager 출력\n",
    "- `%who`, `%who_ls`, `%whos` : 네임스페이스에 정의된 변수 출력 (이름만, 리스트로, 이름 및 간략 설명)\n",
    "- `%xdel 변수` : 변수 삭제"
   ]
  },
  {
   "cell_type": "code",
   "execution_count": 56,
   "metadata": {},
   "outputs": [],
   "source": [
    "%quickref"
   ]
  },
  {
   "cell_type": "code",
   "execution_count": 57,
   "metadata": {},
   "outputs": [],
   "source": [
    "%magic"
   ]
  },
  {
   "cell_type": "code",
   "execution_count": 58,
   "metadata": {
    "collapsed": true
   },
   "outputs": [
    {
     "name": "stdout",
     "output_type": "stream",
     "text": [
      "print(\"Hello, world!\")\n",
      "#탭 자동완성\n",
      "an_apple = 27\n",
      "an_example = 42\n",
      "b = [1, 2, 3]\n",
      "an_apple\n",
      "b.append(4)\n",
      "b\n",
      "import datetime\n",
      "datetime.date\n",
      "#탭 자동완성: 경로명\n",
      "#탭 자동완성: 함수 인자명\n",
      "def func_with_keywords(abra=1, abbra=2, abbbra=3):\n",
      "    return abra, abbra, abbbra\n",
      "func_with_keywords(abbbra=)\n",
      "print ?\n",
      "print?\n",
      "def add_numbers(a, b):\n",
      "    \"\"\"\n",
      "    Add two numbers together\n",
      "    \n",
      "    Returns\n",
      "    --------\n",
      "    the_sum : type of arguments\n",
      "    \"\"\"\n",
      "    return a + b\n",
      "add_numbers?\n",
      "print?\n",
      "b = [1, 2, 3]\n",
      "b?\n",
      "add_numbers??\n",
      "add_numbers??    #소스코드 보여줌\n",
      "add_numbers??    #소스코드 보여줌\n",
      "add_numbers?\n",
      "add_numbers??    #소스코드 보여줌\n",
      "add_numbers??\n",
      "add_numbers??\n",
      "#네임스페이스 검색에도 활용할 수 있다.\n",
      "np.*load*?\n",
      "np.*load*?\n",
      "#네임스페이스 검색에도 활용할 수 있다.\n",
      "np.*load*\n",
      "#네임스페이스 검색에도 활용할 수 있다.\n",
      "np.*load*?\n",
      "%run ipython_script_test.py\n",
      "c\n",
      "result\n",
      "c\n",
      "#변수를 바꿔치기 해서 실행해본다.\n",
      "\n",
      "a = 1\n",
      "b = 1\n",
      "c = 1\n",
      "\n",
      "%run -i ipython_script_test.py\n",
      "a\n",
      "b\n",
      "c\n",
      "result\n",
      "#변수를 바꿔치기 해서 실행해본다.\n",
      "\n",
      "a = 1\n",
      "b = 1\n",
      "c = 1\n",
      "\n",
      "%run -i ipython_script_test.py\n",
      "a\n",
      "%load ipython_script_test.py\n",
      "x = 5\n",
      "y = 7\n",
      "if x > 5:\n",
      "    x += 1\n",
      "    \n",
      "    y = 8\n",
      "%paste\n",
      "%paste\n",
      "%cpaste\n",
      "a = np.random.randn(100, 100)\n",
      "import numpy as np\n",
      "a = np.random.randn(100, 100)\n",
      "%timeit np.dot(a, a)\n",
      "%debug?\n",
      "%pwd\n",
      "#결과를 변수에 저장할 수도 있다.\n",
      "foo = %pwd\n",
      "foo\n",
      "%time np.dot(a, a)\n",
      "%quickref\n",
      "%magic\n",
      "%hist\n"
     ]
    }
   ],
   "source": [
    "%hist"
   ]
  },
  {
   "cell_type": "code",
   "execution_count": 60,
   "metadata": {},
   "outputs": [],
   "source": [
    "%page a"
   ]
  },
  {
   "cell_type": "code",
   "execution_count": 61,
   "metadata": {},
   "outputs": [
    {
     "name": "stdout",
     "output_type": "stream",
     "text": [
      "a\t add_numbers\t an_apple\t an_example\t b\t c\t datetime\t f\t foo\t \n",
      "func_with_keywords\t np\t result\t x\t y\t \n"
     ]
    }
   ],
   "source": [
    "%who"
   ]
  },
  {
   "cell_type": "code",
   "execution_count": 62,
   "metadata": {},
   "outputs": [
    {
     "data": {
      "text/plain": [
       "['a',\n",
       " 'add_numbers',\n",
       " 'an_apple',\n",
       " 'an_example',\n",
       " 'b',\n",
       " 'c',\n",
       " 'datetime',\n",
       " 'f',\n",
       " 'foo',\n",
       " 'func_with_keywords',\n",
       " 'np',\n",
       " 'result',\n",
       " 'x',\n",
       " 'y']"
      ]
     },
     "execution_count": 62,
     "metadata": {},
     "output_type": "execute_result"
    }
   ],
   "source": [
    "%who_ls"
   ]
  },
  {
   "cell_type": "code",
   "execution_count": 63,
   "metadata": {},
   "outputs": [
    {
     "name": "stdout",
     "output_type": "stream",
     "text": [
      "Variable             Type        Data/Info\n",
      "------------------------------------------\n",
      "a                    ndarray     100x100: 10000 elems, type `float64`, 80000 bytes\n",
      "add_numbers          function    <function add_numbers at 0x10b129170>\n",
      "an_apple             int         27\n",
      "an_example           int         42\n",
      "b                    int         6\n",
      "c                    float       7.5\n",
      "datetime             module      <module 'datetime' from '<...>b/python3.7/datetime.py'>\n",
      "f                    function    <function f at 0x109956a70>\n",
      "foo                  str         /Users/soothingni/Desktop/pydata\n",
      "func_with_keywords   function    <function func_with_keywords at 0x10ba1bb00>\n",
      "np                   module      <module 'numpy' from '/Us<...>kages/numpy/__init__.py'>\n",
      "result               float       1.4666666666666666\n",
      "x                    int         5\n",
      "y                    int         7\n"
     ]
    }
   ],
   "source": [
    "%whos"
   ]
  },
  {
   "cell_type": "code",
   "execution_count": 64,
   "metadata": {},
   "outputs": [],
   "source": [
    "%xdel a"
   ]
  },
  {
   "cell_type": "code",
   "execution_count": 65,
   "metadata": {},
   "outputs": [
    {
     "name": "stdout",
     "output_type": "stream",
     "text": [
      "add_numbers\t an_apple\t an_example\t b\t c\t datetime\t f\t foo\t func_with_keywords\t \n",
      "np\t result\t x\t y\t \n"
     ]
    }
   ],
   "source": [
    "%who"
   ]
  },
  {
   "cell_type": "code",
   "execution_count": 66,
   "metadata": {},
   "outputs": [
    {
     "name": "stdout",
     "output_type": "stream",
     "text": [
      "Object `a` not found\n"
     ]
    }
   ],
   "source": [
    "%page a"
   ]
  },
  {
   "cell_type": "code",
   "execution_count": 67,
   "metadata": {},
   "outputs": [
    {
     "name": "stdout",
     "output_type": "stream",
     "text": [
      "Once deleted, variables cannot be recovered. Proceed (y/[n])? y\n"
     ]
    }
   ],
   "source": [
    "%reset"
   ]
  },
  {
   "cell_type": "code",
   "execution_count": 68,
   "metadata": {},
   "outputs": [
    {
     "name": "stdout",
     "output_type": "stream",
     "text": [
      "Interactive namespace is empty.\n"
     ]
    }
   ],
   "source": [
    "%who"
   ]
  },
  {
   "cell_type": "markdown",
   "metadata": {},
   "source": [
    "### `%matplotlib inline`\n",
    "그동안 많이 봐왔지만 정확히 왜 필요한지는 몰랐던 이것도 매직명령어였다!\n",
    "- ipython 셸이나 주피터 노트북과 matplotlib 통합을 설정한다.\n",
    "- 없을 경우\n",
    "    - 셸: 세션 제어권을 뺏길 수 있음\n",
    "    - 노트북: 그래프가 화면에 나타나지 않을 수 있음"
   ]
  },
  {
   "cell_type": "code",
   "execution_count": 69,
   "metadata": {},
   "outputs": [
    {
     "name": "stdout",
     "output_type": "stream",
     "text": [
      "Using matplotlib backend: MacOSX\n"
     ]
    }
   ],
   "source": [
    "%matplotlib"
   ]
  },
  {
   "cell_type": "code",
   "execution_count": 70,
   "metadata": {},
   "outputs": [],
   "source": [
    "%matplotlib inline"
   ]
  },
  {
   "cell_type": "code",
   "execution_count": 73,
   "metadata": {},
   "outputs": [
    {
     "data": {
      "text/plain": [
       "[<matplotlib.lines.Line2D at 0x11c4d4ed0>]"
      ]
     },
     "execution_count": 73,
     "metadata": {},
     "output_type": "execute_result"
    },
    {
     "data": {
      "image/png": "[encoded data removed]",
      "text/plain": [
       "<Figure size 432x288 with 1 Axes>"
      ]
     },
     "metadata": {
      "needs_background": "light"
     },
     "output_type": "display_data"
    }
   ],
   "source": [
    "import matplotlib.pyplot as plt\n",
    "plt.plot(np.random.randn(50).cumsum())"
   ]
  },
  {
   "cell_type": "markdown",
   "metadata": {},
   "source": [
    "## 2.2 파이썬 기초\n",
    ">가독성, 명료성, 명백함"
   ]
  },
  {
   "cell_type": "markdown",
   "metadata": {},
   "source": [
    "### 참조\n",
    "\n",
    "파이썬에서 변수에 값을 대입하면 대입 연산자(`=`) 오른쪽에 있는 객체에 대한 **참조**를 생성한다.\n",
    "- **복사**가 아니라!"
   ]
  },
  {
   "cell_type": "code",
   "execution_count": 74,
   "metadata": {},
   "outputs": [],
   "source": [
    "a = [1, 2, 3]"
   ]
  },
  {
   "cell_type": "code",
   "execution_count": 75,
   "metadata": {},
   "outputs": [],
   "source": [
    "b = a"
   ]
  },
  {
   "cell_type": "code",
   "execution_count": 76,
   "metadata": {},
   "outputs": [],
   "source": [
    "a.append(4)"
   ]
  },
  {
   "cell_type": "code",
   "execution_count": 77,
   "metadata": {},
   "outputs": [
    {
     "data": {
      "text/plain": [
       "[1, 2, 3, 4]"
      ]
     },
     "execution_count": 77,
     "metadata": {},
     "output_type": "execute_result"
    }
   ],
   "source": [
    "b"
   ]
  },
  {
   "cell_type": "code",
   "execution_count": 78,
   "metadata": {},
   "outputs": [],
   "source": [
    "#함수도 마찬가지\n",
    "def append_element(some_list, element):\n",
    "    some_list.append(element)"
   ]
  },
  {
   "cell_type": "code",
   "execution_count": 79,
   "metadata": {},
   "outputs": [],
   "source": [
    "data = [1, 2, 3]"
   ]
  },
  {
   "cell_type": "code",
   "execution_count": 80,
   "metadata": {},
   "outputs": [],
   "source": [
    "append_element(data, 4)"
   ]
  },
  {
   "cell_type": "code",
   "execution_count": 81,
   "metadata": {},
   "outputs": [
    {
     "data": {
      "text/plain": [
       "[1, 2, 3, 4]"
      ]
     },
     "execution_count": 81,
     "metadata": {},
     "output_type": "execute_result"
    }
   ],
   "source": [
    "data"
   ]
  },
  {
   "cell_type": "code",
   "execution_count": null,
   "metadata": {},
   "outputs": [],
   "source": []
  }
 ],
 "metadata": {
  "kernelspec": {
   "display_name": "Python 3",
   "language": "python",
   "name": "python3"
  },
  "language_info": {
   "codemirror_mode": {
    "name": "ipython",
    "version": 3
   },
   "file_extension": ".py",
   "mimetype": "text/x-python",
   "name": "python",
   "nbconvert_exporter": "python",
   "pygments_lexer": "ipython3",
   "version": "3.7.5"
  }
 },
 "nbformat": 4,
 "nbformat_minor": 2
}
